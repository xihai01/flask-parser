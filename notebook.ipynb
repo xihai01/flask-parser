{
 "cells": [
  {
   "cell_type": "code",
   "execution_count": 1,
   "metadata": {},
   "outputs": [],
   "source": [
    "import pandas as pd\n",
    "df = pd.read_csv(\"Donations.csv\")"
   ]
  },
  {
   "cell_type": "code",
   "execution_count": 2,
   "metadata": {},
   "outputs": [
    {
     "data": {
      "text/html": [
       "<div>\n",
       "<style scoped>\n",
       "    .dataframe tbody tr th:only-of-type {\n",
       "        vertical-align: middle;\n",
       "    }\n",
       "\n",
       "    .dataframe tbody tr th {\n",
       "        vertical-align: top;\n",
       "    }\n",
       "\n",
       "    .dataframe thead th {\n",
       "        text-align: right;\n",
       "    }\n",
       "</style>\n",
       "<table border=\"1\" class=\"dataframe\">\n",
       "  <thead>\n",
       "    <tr style=\"text-align: right;\">\n",
       "      <th></th>\n",
       "      <th>Contact Types</th>\n",
       "      <th>Donor Name</th>\n",
       "      <th>Donation Type Name</th>\n",
       "      <th>Total Amount</th>\n",
       "      <th>When Received</th>\n",
       "      <th>Payment Type Name</th>\n",
       "    </tr>\n",
       "  </thead>\n",
       "  <tbody>\n",
       "    <tr>\n",
       "      <th>484</th>\n",
       "      <td>Donors - CanadaHelps, Monthly</td>\n",
       "      <td>Zhang, Muhan</td>\n",
       "      <td>Individual - CanadaHelps</td>\n",
       "      <td>10.00</td>\n",
       "      <td>2022-03-26</td>\n",
       "      <td>Credit Card</td>\n",
       "    </tr>\n",
       "    <tr>\n",
       "      <th>485</th>\n",
       "      <td>Donors - CanadaHelps, Monthly</td>\n",
       "      <td>Cunningham, Michael</td>\n",
       "      <td>Individual - CanadaHelps</td>\n",
       "      <td>50.00</td>\n",
       "      <td>2022-03-26</td>\n",
       "      <td>Credit Card</td>\n",
       "    </tr>\n",
       "    <tr>\n",
       "      <th>486</th>\n",
       "      <td>Donors - CanadaHelps, Monthly</td>\n",
       "      <td>Smith, Allison</td>\n",
       "      <td>Individual - CanadaHelps</td>\n",
       "      <td>5.00</td>\n",
       "      <td>2022-03-27</td>\n",
       "      <td>Credit Card</td>\n",
       "    </tr>\n",
       "    <tr>\n",
       "      <th>487</th>\n",
       "      <td>Donors - CanadaHelps, Monthly</td>\n",
       "      <td>Gibson, Kate</td>\n",
       "      <td>Individual - CanadaHelps</td>\n",
       "      <td>20.00</td>\n",
       "      <td>2022-03-29</td>\n",
       "      <td>Credit Card</td>\n",
       "    </tr>\n",
       "    <tr>\n",
       "      <th>488</th>\n",
       "      <td>Donors - CanadaHelps, Monthly</td>\n",
       "      <td>Cheng, Iris</td>\n",
       "      <td>Individual - CanadaHelps</td>\n",
       "      <td>20.00</td>\n",
       "      <td>2022-03-30</td>\n",
       "      <td>Credit Card</td>\n",
       "    </tr>\n",
       "  </tbody>\n",
       "</table>\n",
       "</div>"
      ],
      "text/plain": [
       "                     Contact Types           Donor Name  \\\n",
       "484  Donors - CanadaHelps, Monthly         Zhang, Muhan   \n",
       "485  Donors - CanadaHelps, Monthly  Cunningham, Michael   \n",
       "486  Donors - CanadaHelps, Monthly       Smith, Allison   \n",
       "487  Donors - CanadaHelps, Monthly         Gibson, Kate   \n",
       "488  Donors - CanadaHelps, Monthly          Cheng, Iris   \n",
       "\n",
       "           Donation Type Name Total Amount When Received Payment Type Name  \n",
       "484  Individual - CanadaHelps        10.00    2022-03-26       Credit Card  \n",
       "485  Individual - CanadaHelps        50.00    2022-03-26       Credit Card  \n",
       "486  Individual - CanadaHelps         5.00    2022-03-27       Credit Card  \n",
       "487  Individual - CanadaHelps        20.00    2022-03-29       Credit Card  \n",
       "488  Individual - CanadaHelps        20.00    2022-03-30       Credit Card  "
      ]
     },
     "execution_count": 2,
     "metadata": {},
     "output_type": "execute_result"
    }
   ],
   "source": [
    "# remove last two rows\n",
    "df.drop(df.tail(2).index, inplace=True)\n",
    "df.tail()"
   ]
  },
  {
   "cell_type": "code",
   "execution_count": 28,
   "metadata": {},
   "outputs": [
    {
     "name": "stdout",
     "output_type": "stream",
     "text": [
      "13982.0\n",
      "150.0\n",
      "500.0\n",
      "Credit Card\n"
     ]
    },
    {
     "data": {
      "text/html": [
       "<div>\n",
       "<style scoped>\n",
       "    .dataframe tbody tr th:only-of-type {\n",
       "        vertical-align: middle;\n",
       "    }\n",
       "\n",
       "    .dataframe tbody tr th {\n",
       "        vertical-align: top;\n",
       "    }\n",
       "\n",
       "    .dataframe thead th {\n",
       "        text-align: right;\n",
       "    }\n",
       "</style>\n",
       "<table border=\"1\" class=\"dataframe\">\n",
       "  <thead>\n",
       "    <tr style=\"text-align: right;\">\n",
       "      <th></th>\n",
       "      <th>Total Donations</th>\n",
       "      <th>Largest Amt by Monthly Donors</th>\n",
       "      <th>Largest Amt by One-Time Donors</th>\n",
       "      <th>Most Preferred Payment Type</th>\n",
       "    </tr>\n",
       "  </thead>\n",
       "  <tbody>\n",
       "    <tr>\n",
       "      <th>0</th>\n",
       "      <td>13982.0</td>\n",
       "      <td>150.0</td>\n",
       "      <td>500.0</td>\n",
       "      <td>Credit Card</td>\n",
       "    </tr>\n",
       "  </tbody>\n",
       "</table>\n",
       "</div>"
      ],
      "text/plain": [
       "   Total Donations  Largest Amt by Monthly Donors  \\\n",
       "0          13982.0                          150.0   \n",
       "\n",
       "   Largest Amt by One-Time Donors Most Preferred Payment Type  \n",
       "0                           500.0                 Credit Card  "
      ]
     },
     "execution_count": 28,
     "metadata": {},
     "output_type": "execute_result"
    }
   ],
   "source": [
    "# summary section (total donations, largest monthly amount, largest one time amount, preferred payment type)\n",
    "total_donations = pd.to_numeric(df[\"Total Amount\"]).sum()\n",
    "print(total_donations)\n",
    "\n",
    "monthly_filter = df[\"Contact Types\"] == \"Donors - CanadaHelps, Monthly\"\n",
    "monthly_df = df[monthly_filter]\n",
    "largest_monthly_amt = pd.to_numeric(monthly_df[\"Total Amount\"]).max()\n",
    "print(largest_monthly_amt)\n",
    "\n",
    "one_time_filter = df[\"Contact Types\"] == \"Donors - CanadaHelps, One-Time\"\n",
    "one_time_df = df[one_time_filter]\n",
    "largest_one_time_amt = pd.to_numeric(one_time_df[\"Total Amount\"]).max()\n",
    "print(largest_one_time_amt)\n",
    "\n",
    "payment_type_count = df.groupby(\"Payment Type Name\").count()\n",
    "pref_payment_type = payment_type_count[\"Contact Types\"].idxmax()\n",
    "print(pref_payment_type)\n",
    "\n",
    "data = [[total_donations, largest_monthly_amt, largest_one_time_amt, pref_payment_type]]\n",
    "summary_df = pd.DataFrame(data, columns=[\"Total Donations\", \"Largest Amt by Monthly Donors\", \"Largest Amt by One-Time Donors\", \"Most Preferred Payment Type\"])\n",
    "summary_df.head()"
   ]
  },
  {
   "cell_type": "code",
   "execution_count": null,
   "metadata": {},
   "outputs": [],
   "source": []
  }
 ],
 "metadata": {
  "interpreter": {
   "hash": "5e22019c3e23573a47360d77c14f09cbf6ea31c710e73d2c2e7a6ea42e690bcf"
  },
  "kernelspec": {
   "display_name": "Python 3.8.10 ('env': venv)",
   "language": "python",
   "name": "python3"
  },
  "language_info": {
   "codemirror_mode": {
    "name": "ipython",
    "version": 3
   },
   "file_extension": ".py",
   "mimetype": "text/x-python",
   "name": "python",
   "nbconvert_exporter": "python",
   "pygments_lexer": "ipython3",
   "version": "3.8.10"
  },
  "orig_nbformat": 4
 },
 "nbformat": 4,
 "nbformat_minor": 2
}
