{
 "cells": [
  {
   "cell_type": "code",
   "execution_count": 1,
   "metadata": {},
   "outputs": [],
   "source": [
    "import pandas as pd\n",
    "df = pd.read_csv(\"Donations.csv\")"
   ]
  },
  {
   "cell_type": "code",
   "execution_count": 2,
   "metadata": {},
   "outputs": [],
   "source": [
    "# remove last two rows\n",
    "df.drop(df.tail(2).index, inplace=True)"
   ]
  },
  {
   "cell_type": "code",
   "execution_count": null,
   "metadata": {},
   "outputs": [],
   "source": [
    "# summary section (total donations, largest monthly amount, largest one time amount, preferred payment type)\n",
    "total_donations = pd.to_numeric(df[\"Total Amount\"]).sum()\n",
    "print(total_donations)\n",
    "\n",
    "monthly_filter = df[\"Contact Types\"] == \"Donors - CanadaHelps, Monthly\"\n",
    "monthly_df = df[monthly_filter]\n",
    "largest_monthly_amt = pd.to_numeric(monthly_df[\"Total Amount\"]).max()\n",
    "print(largest_monthly_amt)\n",
    "\n",
    "one_time_filter = df[\"Contact Types\"] == \"Donors - CanadaHelps, One-Time\"\n",
    "one_time_df = df[one_time_filter]\n",
    "largest_one_time_amt = pd.to_numeric(one_time_df[\"Total Amount\"]).max()\n",
    "print(largest_one_time_amt)\n",
    "\n",
    "payment_type_count = df.groupby(\"Payment Type Name\").count()\n",
    "pref_payment_type = payment_type_count[\"Contact Types\"].idxmax()\n",
    "print(pref_payment_type)\n",
    "\n",
    "data = [[total_donations, largest_monthly_amt, largest_one_time_amt, pref_payment_type], [\"\", \"\", \"\", \"\"]]\n",
    "summary_df = pd.DataFrame(data, columns=[\"Total Donations\", \"Largest Amount by Monthly Donors\", \"Largest Amount by One-Time Donors\", \"Most Preferred Payment Type\"])\n",
    "summary_df.head()"
   ]
  },
  {
   "cell_type": "code",
   "execution_count": null,
   "metadata": {},
   "outputs": [],
   "source": [
    "\n",
    "# monthly df, delete contact types, sort alphabetically by name\n",
    "# monthly_df.drop(\"Contact Types\", inplace=True, axis=1)\n",
    "monthly_df.sort_values(by=[\"Donor Name\", \"When Received\"], inplace=True)\n",
    "monthly_df.reset_index(drop=True, inplace=True)"
   ]
  },
  {
   "cell_type": "code",
   "execution_count": null,
   "metadata": {},
   "outputs": [],
   "source": [
    "# one-time df, delete contact types, sort alphabetically by name\n",
    "# one_time_df.drop(\"Contact Types\", inplace=True, axis=1)\n",
    "one_time_df.sort_values(by=[\"Donor Name\", \"When Received\"], inplace=True)\n",
    "one_time_df.reset_index(drop=True, inplace=True)\n",
    "one_time_df.head()"
   ]
  },
  {
   "cell_type": "code",
   "execution_count": 6,
   "metadata": {},
   "outputs": [],
   "source": [
    "# create seperator\n",
    "rows, cols = monthly_df.shape\n",
    "seperator_array = []\n",
    "for row in range(rows):\n",
    "  seperator_array.append(\"||\")\n",
    "seperator_series = pd.Series(seperator_array, name=\"||\")\n"
   ]
  },
  {
   "cell_type": "code",
   "execution_count": 7,
   "metadata": {},
   "outputs": [],
   "source": [
    "# write summary_df, monthly_df and one-time_df into csv file\n",
    "body_df = pd.concat([monthly_df, seperator_series], axis=1)\n",
    "body_df = pd.concat([body_df, one_time_df], axis=1)\n",
    "summary_df.to_csv(\"Quarterly_Report.csv\", mode=\"a\", index=False)\n",
    "body_df.to_csv(\"Quarterly_Report.csv\", mode=\"a\", index=False)"
   ]
  },
  {
   "cell_type": "code",
   "execution_count": 19,
   "metadata": {},
   "outputs": [],
   "source": []
  },
  {
   "cell_type": "code",
   "execution_count": null,
   "metadata": {},
   "outputs": [],
   "source": []
  }
 ],
 "metadata": {
  "interpreter": {
   "hash": "5e22019c3e23573a47360d77c14f09cbf6ea31c710e73d2c2e7a6ea42e690bcf"
  },
  "kernelspec": {
   "display_name": "Python 3.8.10 ('env': venv)",
   "language": "python",
   "name": "python3"
  },
  "language_info": {
   "codemirror_mode": {
    "name": "ipython",
    "version": 3
   },
   "file_extension": ".py",
   "mimetype": "text/x-python",
   "name": "python",
   "nbconvert_exporter": "python",
   "pygments_lexer": "ipython3",
   "version": "3.8.10"
  },
  "orig_nbformat": 4
 },
 "nbformat": 4,
 "nbformat_minor": 2
}
