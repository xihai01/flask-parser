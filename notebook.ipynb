{
 "cells": [
  {
   "cell_type": "code",
   "execution_count": 1,
   "metadata": {},
   "outputs": [],
   "source": [
    "import pandas as pd\n",
    "df = pd.read_csv(\"Donations.csv\")"
   ]
  },
  {
   "cell_type": "code",
   "execution_count": 2,
   "metadata": {},
   "outputs": [],
   "source": [
    "# remove last two rows\n",
    "df.drop(df.tail(2).index, inplace=True)"
   ]
  },
  {
   "cell_type": "code",
   "execution_count": 3,
   "metadata": {},
   "outputs": [
    {
     "name": "stdout",
     "output_type": "stream",
     "text": [
      "13982.0\n",
      "150.0\n",
      "500.0\n",
      "Credit Card\n"
     ]
    },
    {
     "data": {
      "text/html": [
       "<div>\n",
       "<style scoped>\n",
       "    .dataframe tbody tr th:only-of-type {\n",
       "        vertical-align: middle;\n",
       "    }\n",
       "\n",
       "    .dataframe tbody tr th {\n",
       "        vertical-align: top;\n",
       "    }\n",
       "\n",
       "    .dataframe thead th {\n",
       "        text-align: right;\n",
       "    }\n",
       "</style>\n",
       "<table border=\"1\" class=\"dataframe\">\n",
       "  <thead>\n",
       "    <tr style=\"text-align: right;\">\n",
       "      <th></th>\n",
       "      <th>Total Donations</th>\n",
       "      <th>Largest Amt by Monthly Donors</th>\n",
       "      <th>Largest Amt by One-Time Donors</th>\n",
       "      <th>Most Preferred Payment Type</th>\n",
       "    </tr>\n",
       "  </thead>\n",
       "  <tbody>\n",
       "    <tr>\n",
       "      <th>0</th>\n",
       "      <td>13982.0</td>\n",
       "      <td>150.0</td>\n",
       "      <td>500.0</td>\n",
       "      <td>Credit Card</td>\n",
       "    </tr>\n",
       "  </tbody>\n",
       "</table>\n",
       "</div>"
      ],
      "text/plain": [
       "   Total Donations  Largest Amt by Monthly Donors  \\\n",
       "0          13982.0                          150.0   \n",
       "\n",
       "   Largest Amt by One-Time Donors Most Preferred Payment Type  \n",
       "0                           500.0                 Credit Card  "
      ]
     },
     "execution_count": 3,
     "metadata": {},
     "output_type": "execute_result"
    }
   ],
   "source": [
    "# summary section (total donations, largest monthly amount, largest one time amount, preferred payment type)\n",
    "total_donations = pd.to_numeric(df[\"Total Amount\"]).sum()\n",
    "print(total_donations)\n",
    "\n",
    "monthly_filter = df[\"Contact Types\"] == \"Donors - CanadaHelps, Monthly\"\n",
    "monthly_df = df[monthly_filter]\n",
    "largest_monthly_amt = pd.to_numeric(monthly_df[\"Total Amount\"]).max()\n",
    "print(largest_monthly_amt)\n",
    "\n",
    "one_time_filter = df[\"Contact Types\"] == \"Donors - CanadaHelps, One-Time\"\n",
    "one_time_df = df[one_time_filter]\n",
    "largest_one_time_amt = pd.to_numeric(one_time_df[\"Total Amount\"]).max()\n",
    "print(largest_one_time_amt)\n",
    "\n",
    "payment_type_count = df.groupby(\"Payment Type Name\").count()\n",
    "pref_payment_type = payment_type_count[\"Contact Types\"].idxmax()\n",
    "print(pref_payment_type)\n",
    "\n",
    "data = [[total_donations, largest_monthly_amt, largest_one_time_amt, pref_payment_type]]\n",
    "summary_df = pd.DataFrame(data, columns=[\"Total Donations\", \"Largest Amt by Monthly Donors\", \"Largest Amt by One-Time Donors\", \"Most Preferred Payment Type\"])\n",
    "summary_df.head()"
   ]
  },
  {
   "cell_type": "code",
   "execution_count": 4,
   "metadata": {},
   "outputs": [
    {
     "name": "stderr",
     "output_type": "stream",
     "text": [
      "/tmp/ipykernel_96649/2428726786.py:2: SettingWithCopyWarning: \n",
      "A value is trying to be set on a copy of a slice from a DataFrame\n",
      "\n",
      "See the caveats in the documentation: https://pandas.pydata.org/pandas-docs/stable/user_guide/indexing.html#returning-a-view-versus-a-copy\n",
      "  monthly_df.drop(\"Contact Types\", inplace=True, axis=1)\n",
      "/tmp/ipykernel_96649/2428726786.py:3: SettingWithCopyWarning: \n",
      "A value is trying to be set on a copy of a slice from a DataFrame\n",
      "\n",
      "See the caveats in the documentation: https://pandas.pydata.org/pandas-docs/stable/user_guide/indexing.html#returning-a-view-versus-a-copy\n",
      "  monthly_df.sort_values(by=[\"Donor Name\", \"When Received\"], inplace=True)\n"
     ]
    }
   ],
   "source": [
    "\n",
    "# monthly df, delete contact types, sort alphabetically by name\n",
    "monthly_df.drop(\"Contact Types\", inplace=True, axis=1)\n",
    "monthly_df.sort_values(by=[\"Donor Name\", \"When Received\"], inplace=True)\n",
    "monthly_df.reset_index(drop=True, inplace=True)"
   ]
  },
  {
   "cell_type": "code",
   "execution_count": 5,
   "metadata": {},
   "outputs": [
    {
     "name": "stderr",
     "output_type": "stream",
     "text": [
      "/tmp/ipykernel_96649/1548901053.py:2: SettingWithCopyWarning: \n",
      "A value is trying to be set on a copy of a slice from a DataFrame\n",
      "\n",
      "See the caveats in the documentation: https://pandas.pydata.org/pandas-docs/stable/user_guide/indexing.html#returning-a-view-versus-a-copy\n",
      "  one_time_df.drop(\"Contact Types\", inplace=True, axis=1)\n",
      "/tmp/ipykernel_96649/1548901053.py:3: SettingWithCopyWarning: \n",
      "A value is trying to be set on a copy of a slice from a DataFrame\n",
      "\n",
      "See the caveats in the documentation: https://pandas.pydata.org/pandas-docs/stable/user_guide/indexing.html#returning-a-view-versus-a-copy\n",
      "  one_time_df.sort_values(by=[\"Donor Name\", \"When Received\"], inplace=True)\n"
     ]
    },
    {
     "data": {
      "text/html": [
       "<div>\n",
       "<style scoped>\n",
       "    .dataframe tbody tr th:only-of-type {\n",
       "        vertical-align: middle;\n",
       "    }\n",
       "\n",
       "    .dataframe tbody tr th {\n",
       "        vertical-align: top;\n",
       "    }\n",
       "\n",
       "    .dataframe thead th {\n",
       "        text-align: right;\n",
       "    }\n",
       "</style>\n",
       "<table border=\"1\" class=\"dataframe\">\n",
       "  <thead>\n",
       "    <tr style=\"text-align: right;\">\n",
       "      <th></th>\n",
       "      <th>Donor Name</th>\n",
       "      <th>Donation Type Name</th>\n",
       "      <th>Total Amount</th>\n",
       "      <th>When Received</th>\n",
       "      <th>Payment Type Name</th>\n",
       "    </tr>\n",
       "  </thead>\n",
       "  <tbody>\n",
       "    <tr>\n",
       "      <th>0</th>\n",
       "      <td>Donnelly, Elisabeth</td>\n",
       "      <td>Individual - CanadaHelps</td>\n",
       "      <td>20.00</td>\n",
       "      <td>2022-03-16</td>\n",
       "      <td>Paypal</td>\n",
       "    </tr>\n",
       "    <tr>\n",
       "      <th>1</th>\n",
       "      <td>Drobnies, Adrienne</td>\n",
       "      <td>Individual - CanadaHelps</td>\n",
       "      <td>150.00</td>\n",
       "      <td>2022-02-21</td>\n",
       "      <td>Credit Card</td>\n",
       "    </tr>\n",
       "    <tr>\n",
       "      <th>2</th>\n",
       "      <td>Drobnies, Adrienne</td>\n",
       "      <td>Individual - CanadaHelps</td>\n",
       "      <td>150.00</td>\n",
       "      <td>2022-02-21</td>\n",
       "      <td>Credit Card</td>\n",
       "    </tr>\n",
       "    <tr>\n",
       "      <th>3</th>\n",
       "      <td>Kelleher, Leila</td>\n",
       "      <td>Individual - CanadaHelps</td>\n",
       "      <td>160.00</td>\n",
       "      <td>2022-03-28</td>\n",
       "      <td>Paypal</td>\n",
       "    </tr>\n",
       "    <tr>\n",
       "      <th>4</th>\n",
       "      <td>Markulin, Diana</td>\n",
       "      <td>Individual - CanadaHelps</td>\n",
       "      <td>100.00</td>\n",
       "      <td>2022-03-17</td>\n",
       "      <td>Credit Card</td>\n",
       "    </tr>\n",
       "  </tbody>\n",
       "</table>\n",
       "</div>"
      ],
      "text/plain": [
       "            Donor Name        Donation Type Name Total Amount When Received  \\\n",
       "0  Donnelly, Elisabeth  Individual - CanadaHelps        20.00    2022-03-16   \n",
       "1   Drobnies, Adrienne  Individual - CanadaHelps       150.00    2022-02-21   \n",
       "2   Drobnies, Adrienne  Individual - CanadaHelps       150.00    2022-02-21   \n",
       "3      Kelleher, Leila  Individual - CanadaHelps       160.00    2022-03-28   \n",
       "4      Markulin, Diana  Individual - CanadaHelps       100.00    2022-03-17   \n",
       "\n",
       "  Payment Type Name  \n",
       "0            Paypal  \n",
       "1       Credit Card  \n",
       "2       Credit Card  \n",
       "3            Paypal  \n",
       "4       Credit Card  "
      ]
     },
     "execution_count": 5,
     "metadata": {},
     "output_type": "execute_result"
    }
   ],
   "source": [
    "# one-time df, delete contact types, sort alphabetically by name\n",
    "one_time_df.drop(\"Contact Types\", inplace=True, axis=1)\n",
    "one_time_df.sort_values(by=[\"Donor Name\", \"When Received\"], inplace=True)\n",
    "one_time_df.reset_index(drop=True, inplace=True)\n",
    "one_time_df.head()"
   ]
  },
  {
   "cell_type": "code",
   "execution_count": 6,
   "metadata": {},
   "outputs": [],
   "source": [
    "# create seperator\n",
    "rows, cols = monthly_df.shape\n",
    "seperator_array = []\n",
    "for row in range(rows):\n",
    "  seperator_array.append(\"||\")\n",
    "seperator_series = pd.Series(seperator_array, name=\"||\")\n"
   ]
  },
  {
   "cell_type": "code",
   "execution_count": 7,
   "metadata": {},
   "outputs": [],
   "source": [
    "# write summary_df, monthly_df and one-time_df into csv file\n",
    "body_df = pd.concat([monthly_df, seperator_series], axis=1)\n",
    "body_df = pd.concat([body_df, one_time_df], axis=1)\n",
    "body_df\n",
    "body_df.to_csv(\"new.csv\")\n"
   ]
  },
  {
   "cell_type": "code",
   "execution_count": 19,
   "metadata": {},
   "outputs": [],
   "source": []
  },
  {
   "cell_type": "code",
   "execution_count": null,
   "metadata": {},
   "outputs": [],
   "source": []
  }
 ],
 "metadata": {
  "interpreter": {
   "hash": "5e22019c3e23573a47360d77c14f09cbf6ea31c710e73d2c2e7a6ea42e690bcf"
  },
  "kernelspec": {
   "display_name": "Python 3.8.10 ('env': venv)",
   "language": "python",
   "name": "python3"
  },
  "language_info": {
   "codemirror_mode": {
    "name": "ipython",
    "version": 3
   },
   "file_extension": ".py",
   "mimetype": "text/x-python",
   "name": "python",
   "nbconvert_exporter": "python",
   "pygments_lexer": "ipython3",
   "version": "3.8.10"
  },
  "orig_nbformat": 4
 },
 "nbformat": 4,
 "nbformat_minor": 2
}
